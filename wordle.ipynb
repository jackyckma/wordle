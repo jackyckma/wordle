{
 "cells": [
  {
   "cell_type": "code",
   "execution_count": 5,
   "metadata": {},
   "outputs": [],
   "source": [
    "import nltk\n",
    "import string\n",
    "import math\n",
    "import itertools\n"
   ]
  },
  {
   "cell_type": "code",
   "execution_count": 45,
   "metadata": {},
   "outputs": [
    {
     "name": "stderr",
     "output_type": "stream",
     "text": [
      "[nltk_data] Downloading package abc to /home/jacky/nltk_data...\n",
      "[nltk_data]   Package abc is already up-to-date!\n"
     ]
    }
   ],
   "source": [
    "nltk.download('abc')\n",
    "raw_list = nltk.corpus.abc.words()"
   ]
  },
  {
   "cell_type": "code",
   "execution_count": 46,
   "metadata": {},
   "outputs": [],
   "source": [
    "filtered_list = list(map(lambda x:x.lower(), filter(lambda x:len(x)==5, raw_list)))\n",
    "word_list = set(filtered_list)\n"
   ]
  },
  {
   "cell_type": "code",
   "execution_count": 116,
   "metadata": {},
   "outputs": [],
   "source": [
    "def score(guess, original):\n",
    "    # give the score of a particular guess and original\n",
    "    # green\n",
    "    green = []\n",
    "    for i in range(5):\n",
    "        if guess[i]==original[i]:\n",
    "\n",
    "            green.append(i)\n",
    "    \n",
    "    # yellow\n",
    "    yellow = []\n",
    "    marked = []\n",
    "    for i in range(5):\n",
    "        for j in range(5):\n",
    "            if i in green:\n",
    "                continue\n",
    "            if j in green:\n",
    "                continue\n",
    "            if j in marked:\n",
    "                continue\n",
    "            \n",
    "            if guess[i]==original[j]:\n",
    "\n",
    "                yellow.append(i)\n",
    "                marked.append(j)\n",
    "    \n",
    "    # comprehen answer\n",
    "    answer = [0,0,0,0,0]\n",
    "    for i in yellow:\n",
    "        answer[i]=1\n",
    "    for i in green:\n",
    "        answer[i]=2\n",
    "    return tuple(answer)\n",
    "      "
   ]
  },
  {
   "cell_type": "code",
   "execution_count": 193,
   "metadata": {},
   "outputs": [],
   "source": [
    "def entropy_potential_answer(guess, word_list):\n",
    "    # with guess, how many of the words in word_list satisfy the potential answer in iff\n",
    "    match_dict = {}\n",
    "    for w in word_list:\n",
    "        s = score(guess, w) \n",
    "        if s not in match_dict:\n",
    "            match_dict[s] = [w]\n",
    "        else:\n",
    "            match_dict[s].append(w)\n",
    "    \n",
    "    count_dict = {key:len(value) for (key,value) in match_dict.items()}\n",
    "    entropy_list = [-v/len(word_list)*math.log2(v/len(word_list)) for k, v in count_dict.items()]\n",
    "    \n",
    "    return sum(entropy_list), match_dict"
   ]
  },
  {
   "cell_type": "code",
   "execution_count": 182,
   "metadata": {},
   "outputs": [],
   "source": [
    "def filter_word_list(guess, word_list, answer):\n",
    "    # with guess, how many of the words in word_list satisfy the potential answer in iff\n",
    "    match_list = []\n",
    "    for w in word_list:\n",
    "        s = score(guess, w) \n",
    "        if s == answer:\n",
    "            match_list.append(w)\n",
    "    \n",
    "    return match_list"
   ]
  },
  {
   "cell_type": "code",
   "execution_count": 167,
   "metadata": {},
   "outputs": [],
   "source": [
    "# starting data\n",
    "entropy_list = [(word, entropy_potential_answer(word, word_list)[0]) for word in word_list]\n",
    "entropy_list.sort(key=lambda x:x[1])\n",
    "print(entropy_list[-5:])\n",
    "\n",
    "# highest entropy word: aires - entropy 6.1520797"
   ]
  },
  {
   "cell_type": "code",
   "execution_count": 241,
   "metadata": {},
   "outputs": [],
   "source": [
    "# hidden answer!\n",
    "\n",
    "hidden_word = 'dream'"
   ]
  },
  {
   "cell_type": "code",
   "execution_count": 242,
   "metadata": {},
   "outputs": [
    {
     "name": "stdout",
     "output_type": "stream",
     "text": [
      "Guess:  aires\n",
      "Answer: (1, 0, 1, 1, 0)\n",
      "('brace', 3.6904796140399774)\n",
      "('react', 3.7053911173994476)\n",
      "('heard', 3.713105974990241)\n",
      "('trace', 3.7451057744901854)\n",
      "('beard', 3.7893590606337826)\n"
     ]
    }
   ],
   "source": [
    "guess = 'aires'\n",
    "\n",
    "\n",
    "#-----------------------------\n",
    "answer = score(guess, hidden_word)\n",
    "wl = filter_word_list(guess, word_list, answer)\n",
    "entropy_list = [(word, entropy_potential_answer(word, wl)[0]) for word in wl]\n",
    "entropy_list.sort(key=lambda x:x[1])\n",
    "\n",
    "print(f'Guess:  {guess}')\n",
    "print(f'Answer: {answer}')\n",
    "print(*entropy_list[-5:], sep='\\n')"
   ]
  },
  {
   "cell_type": "code",
   "execution_count": 243,
   "metadata": {},
   "outputs": [
    {
     "name": "stdout",
     "output_type": "stream",
     "text": [
      "Guess:  beard\n",
      "Answer: (0, 1, 1, 1, 1)\n",
      "('dream', 0.0)\n"
     ]
    }
   ],
   "source": [
    "guess = entropy_list[-1][0]\n",
    "\n",
    "\n",
    "#-----------------------------\n",
    "answer = score(guess, hidden_word)\n",
    "wl = filter_word_list(guess, wl, answer)\n",
    "entropy_list = [(word, entropy_potential_answer(word, wl)[0]) for word in wl]\n",
    "entropy_list.sort(key=lambda x:x[1])\n",
    "\n",
    "print(f'Guess:  {guess}')\n",
    "print(f'Answer: {answer}')\n",
    "print(*entropy_list[-5:], sep='\\n')"
   ]
  },
  {
   "cell_type": "code",
   "execution_count": 240,
   "metadata": {},
   "outputs": [
    {
     "name": "stdout",
     "output_type": "stream",
     "text": [
      "Guess:  handy\n",
      "Answer: (0, 2, 2, 0, 0)\n",
      "('mango', 0.0)\n"
     ]
    }
   ],
   "source": [
    "guess = entropy_list[-1][0]\n",
    "\n",
    "\n",
    "#-----------------------------\n",
    "answer = score(guess, hidden_word)\n",
    "wl = filter_word_list(guess, wl, answer)\n",
    "entropy_list = [(word, entropy_potential_answer(word, wl)[0]) for word in wl]\n",
    "entropy_list.sort(key=lambda x:x[1])\n",
    "\n",
    "print(f'Guess:  {guess}')\n",
    "print(f'Answer: {answer}')\n",
    "print(*entropy_list[-5:], sep='\\n')"
   ]
  }
 ],
 "metadata": {
  "kernelspec": {
   "display_name": "Python 3",
   "language": "python",
   "name": "python3"
  },
  "language_info": {
   "codemirror_mode": {
    "name": "ipython",
    "version": 3
   },
   "file_extension": ".py",
   "mimetype": "text/x-python",
   "name": "python",
   "nbconvert_exporter": "python",
   "pygments_lexer": "ipython3",
   "version": "3.8.3"
  }
 },
 "nbformat": 4,
 "nbformat_minor": 4
}
